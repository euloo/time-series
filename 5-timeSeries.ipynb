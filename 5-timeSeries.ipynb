{
 "cells": [
  {
   "cell_type": "markdown",
   "metadata": {},
   "source": [
    "# Лабораторная работа №5\n",
    "## ПРИМЕНЕНИЕ СИНГУЛЯРНОГО СПЕКТРАЛЬНОГО АНАЛИЗА ДЛЯ ДЕКОМПОЗИЦИИ ВРЕМЕННОГО РЯДА\n",
    "### Комлева Юлия Владимировна\n",
    "### Вариант: 9\n",
    "### Группа: РИМ-181226"
   ]
  },
  {
   "cell_type": "code",
   "execution_count": 2,
   "metadata": {},
   "outputs": [],
   "source": [
    "import numpy as np\n",
    "import numpy.random as rand\n",
    "import matplotlib.pyplot as plt\n",
    "import h5py\n",
    "%matplotlib inline"
   ]
  },
  {
   "cell_type": "markdown",
   "metadata": {},
   "source": [
    "Метод сингулярного спектрального анализа SSA реализуется в 2 этапа – разложение и группировка.\n",
    "### Этап разложения"
   ]
  },
  {
   "cell_type": "code",
   "execution_count": 7,
   "metadata": {},
   "outputs": [],
   "source": [
    "def SSA_modes(F, L):\n",
    "    N = len(F)\n",
    "    K = N - L + 1\n",
    "    X = np.empty((L, K))\n",
    "    for i in range(0, L):\n",
    "        for j in range(0, K):\n",
    "            X[i,j] = F[i+j]\n",
    "    \n",
    "    S = np.dot(X, X.T)\n",
    "    U, A, _ = np.linalg.svd(S)\n",
    "    V = np.dot(X.T, U)\n",
    "    return A, U, V"
   ]
  },
  {
   "cell_type": "code",
   "execution_count": 8,
   "metadata": {},
   "outputs": [
    {
     "name": "stdout",
     "output_type": "stream",
     "text": [
      "[129.66842566  12.           3.33157434]\n",
      "[[-5.78869570e-01  7.07106781e-01  4.06091149e-01]\n",
      " [-5.74299610e-01  4.14039445e-16 -8.18645196e-01]\n",
      " [-5.78869570e-01 -7.07106781e-01  4.06091149e-01]]\n",
      "[[-3.46407750e+00  1.41421356e+00 -1.29257973e-02]\n",
      " [-2.88977789e+00  0.00000000e+00  8.05719399e-01]\n",
      " [-3.46407750e+00 -1.41421356e+00 -1.29257973e-02]\n",
      " [-4.03837711e+00  8.88178420e-16 -8.31570994e-01]\n",
      " [-3.46407750e+00  1.41421356e+00 -1.29257973e-02]\n",
      " [-2.88977789e+00  0.00000000e+00  8.05719399e-01]\n",
      " [-3.46407750e+00 -1.41421356e+00 -1.29257973e-02]\n",
      " [-4.03837711e+00  8.88178420e-16 -8.31570994e-01]\n",
      " [-3.46407750e+00  1.41421356e+00 -1.29257973e-02]\n",
      " [-2.88977789e+00  0.00000000e+00  8.05719399e-01]\n",
      " [-3.46407750e+00 -1.41421356e+00 -1.29257973e-02]]\n"
     ]
    }
   ],
   "source": [
    "ts = np.array([3, 2, 1, 2, 3, 2, 1, 2, 3, 2, 1, 2, 3]) # мини временной ряд\n",
    "A, U, V = SSA_modes(ts, 3) # его разложение с длиной окна = 3\n",
    "print(A) # собственные числа\n",
    "print(U) # собственные вектора\n",
    "print(V) # траекторные вектора"
   ]
  },
  {
   "cell_type": "code",
   "execution_count": 13,
   "metadata": {},
   "outputs": [],
   "source": [
    "check_A = np.array([129.66842566, 12., 3.33157434])\n",
    "check_U = np.array( [[-5.78869570e-01, 7.07106781e-01, 4.06091149e-01],\n",
    "[-5.74299610e-01, 4.14039445e-16, -8.18645196e-01],\n",
    "[-5.78869570e-01, -7.07106781e-01, 4.06091149e-01]])\n",
    "check_V = np.array([[-3.46407750e+00, 1.41421356e+00, -1.29257973e-02],\n",
    "[-2.88977789e+00, 0.00000000e+00, 8.05719399e-01],\n",
    "[-3.46407750e+00, -1.41421356e+00, -1.29257973e-02],\n",
    "[-4.03837711e+00, 8.88178420e-16, -8.31570994e-01],\n",
    "[-3.46407750e+00, 1.41421356e+00, -1.29257973e-02],\n",
    "[-2.88977789e+00, 0.00000000e+00, 8.05719399e-01],\n",
    "[-3.46407750e+00, -1.41421356e+00, -1.29257973e-02],\n",
    "[-4.03837711e+00, 8.88178420e-16, -8.31570994e-01],\n",
    "[-3.46407750e+00, 1.41421356e+00, -1.29257973e-02],\n",
    "[-2.88977789e+00, 0.00000000e+00, 8.05719399e-01],\n",
    "[-3.46407750e+00, -1.41421356e+00, -1.29257973e-02]])"
   ]
  },
  {
   "cell_type": "code",
   "execution_count": 23,
   "metadata": {},
   "outputs": [
    {
     "data": {
      "text/plain": [
       "True"
      ]
     },
     "execution_count": 23,
     "metadata": {},
     "output_type": "execute_result"
    }
   ],
   "source": [
    "np.allclose(A, check_A) and np.allclose(U, check_U) and np.allclose(V, check_V)"
   ]
  },
  {
   "cell_type": "code",
   "execution_count": 80,
   "metadata": {},
   "outputs": [],
   "source": [
    "def SSA_group(A, U, V, N, I):\n",
    "    \n",
    "    L = len(A)\n",
    "    K = N - L + 1\n",
    "    \n",
    "    \n",
    "    #шаг группировки\n",
    "    V = V.transpose()\n",
    "    Z = np.dot(U[:, I], V[I, :])\n",
    "    print(Z)\n",
    "    print(\"N \", N)\n",
    "    #этап диагонального усреднения\n",
    "    G = np.zeros(N)\n",
    "    L_ = min(L, K)\n",
    "    K_ = max(L, K)\n",
    "    for k in range(0, N):\n",
    "        print(\"k \", k)\n",
    "        if 0 <= k < L_ -1:\n",
    "            G[k] = 1/(k+1)* sum([Z[i][k-i+1] for i in range(k)])\n",
    "            #G[k] = sum([Z[i][k-i] for i in range(k)])\n",
    "        if L_-1 <= k < K_:\n",
    "            G[k] = 1/L_* sum([Z[i][k-i+1] for i in range(L_-1)])\n",
    "            #G[k] = sum([Z[i][k-i] for i in range(L_-1)])\n",
    "        if K_ <= k < N+1:\n",
    "            G[k] = 1/(N-k)* sum([Z[i][k-i+1] for i in range(k-K_+1,N-K_)])\n",
    "            #G[k] =  sum([Z[i][k-i] for i in range(k-K_+1,N-K_)])\n",
    "    return G"
   ]
  },
  {
   "cell_type": "code",
   "execution_count": 81,
   "metadata": {},
   "outputs": [
    {
     "data": {
      "text/plain": [
       "array([3, 2, 1, 2, 3, 2, 1, 2, 3, 2, 1, 2, 3])"
      ]
     },
     "execution_count": 81,
     "metadata": {},
     "output_type": "execute_result"
    }
   ],
   "source": [
    "ts"
   ]
  },
  {
   "cell_type": "code",
   "execution_count": 82,
   "metadata": {},
   "outputs": [
    {
     "data": {
      "text/plain": [
       "array([129.66842566,  12.        ,   3.33157434])"
      ]
     },
     "execution_count": 82,
     "metadata": {},
     "output_type": "execute_result"
    }
   ],
   "source": [
    "A"
   ]
  },
  {
   "cell_type": "code",
   "execution_count": 83,
   "metadata": {},
   "outputs": [
    {
     "name": "stdout",
     "output_type": "stream",
     "text": [
      "[[3. 2. 1. 2. 3. 2. 1. 2. 3. 2. 1.]\n",
      " [2. 1. 2. 3. 2. 1. 2. 3. 2. 1. 2.]\n",
      " [1. 2. 3. 2. 1. 2. 3. 2. 1. 2. 3.]]\n",
      "N  13\n",
      "k  0\n",
      "k  1\n",
      "k  2\n",
      "k  3\n",
      "k  4\n",
      "k  5\n",
      "k  6\n",
      "k  7\n",
      "k  8\n",
      "k  9\n",
      "k  10\n"
     ]
    },
    {
     "ename": "IndexError",
     "evalue": "index 11 is out of bounds for axis 0 with size 11",
     "output_type": "error",
     "traceback": [
      "\u001b[0;31m---------------------------------------------------------------------------\u001b[0m",
      "\u001b[0;31mIndexError\u001b[0m                                Traceback (most recent call last)",
      "\u001b[0;32m<ipython-input-83-26cdd975b853>\u001b[0m in \u001b[0;36m<module>\u001b[0;34m()\u001b[0m\n\u001b[0;32m----> 1\u001b[0;31m \u001b[0mts1\u001b[0m \u001b[0;34m=\u001b[0m \u001b[0mSSA_group\u001b[0m\u001b[0;34m(\u001b[0m\u001b[0mA\u001b[0m\u001b[0;34m,\u001b[0m \u001b[0mU\u001b[0m\u001b[0;34m,\u001b[0m \u001b[0mV\u001b[0m\u001b[0;34m,\u001b[0m \u001b[0mlen\u001b[0m\u001b[0;34m(\u001b[0m\u001b[0mts\u001b[0m\u001b[0;34m)\u001b[0m\u001b[0;34m,\u001b[0m \u001b[0;34m[\u001b[0m\u001b[0;36m0\u001b[0m\u001b[0;34m,\u001b[0m \u001b[0;36m1\u001b[0m\u001b[0;34m,\u001b[0m \u001b[0;36m2\u001b[0m\u001b[0;34m]\u001b[0m\u001b[0;34m)\u001b[0m\u001b[0;34m\u001b[0m\u001b[0;34m\u001b[0m\u001b[0m\n\u001b[0m\u001b[1;32m      2\u001b[0m \u001b[0mprint\u001b[0m\u001b[0;34m(\u001b[0m\u001b[0mts1\u001b[0m\u001b[0;34m)\u001b[0m\u001b[0;34m\u001b[0m\u001b[0;34m\u001b[0m\u001b[0m\n\u001b[1;32m      3\u001b[0m \u001b[0mnp\u001b[0m\u001b[0;34m.\u001b[0m\u001b[0mallclose\u001b[0m\u001b[0;34m(\u001b[0m\u001b[0mts\u001b[0m\u001b[0;34m,\u001b[0m \u001b[0mts1\u001b[0m\u001b[0;34m)\u001b[0m\u001b[0;34m\u001b[0m\u001b[0;34m\u001b[0m\u001b[0m\n",
      "\u001b[0;32m<ipython-input-80-6a4fdf91763f>\u001b[0m in \u001b[0;36mSSA_group\u001b[0;34m(A, U, V, N, I)\u001b[0m\n\u001b[1;32m     20\u001b[0m             \u001b[0;31m#G[k] = sum([Z[i][k-i] for i in range(k)])\u001b[0m\u001b[0;34m\u001b[0m\u001b[0;34m\u001b[0m\u001b[0;34m\u001b[0m\u001b[0m\n\u001b[1;32m     21\u001b[0m         \u001b[0;32mif\u001b[0m \u001b[0mL_\u001b[0m\u001b[0;34m-\u001b[0m\u001b[0;36m1\u001b[0m \u001b[0;34m<=\u001b[0m \u001b[0mk\u001b[0m \u001b[0;34m<\u001b[0m \u001b[0mK_\u001b[0m\u001b[0;34m:\u001b[0m\u001b[0;34m\u001b[0m\u001b[0;34m\u001b[0m\u001b[0m\n\u001b[0;32m---> 22\u001b[0;31m             \u001b[0mG\u001b[0m\u001b[0;34m[\u001b[0m\u001b[0mk\u001b[0m\u001b[0;34m]\u001b[0m \u001b[0;34m=\u001b[0m \u001b[0;36m1\u001b[0m\u001b[0;34m/\u001b[0m\u001b[0mL_\u001b[0m\u001b[0;34m*\u001b[0m \u001b[0msum\u001b[0m\u001b[0;34m(\u001b[0m\u001b[0;34m[\u001b[0m\u001b[0mZ\u001b[0m\u001b[0;34m[\u001b[0m\u001b[0mi\u001b[0m\u001b[0;34m]\u001b[0m\u001b[0;34m[\u001b[0m\u001b[0mk\u001b[0m\u001b[0;34m-\u001b[0m\u001b[0mi\u001b[0m\u001b[0;34m+\u001b[0m\u001b[0;36m1\u001b[0m\u001b[0;34m]\u001b[0m \u001b[0;32mfor\u001b[0m \u001b[0mi\u001b[0m \u001b[0;32min\u001b[0m \u001b[0mrange\u001b[0m\u001b[0;34m(\u001b[0m\u001b[0mL_\u001b[0m\u001b[0;34m-\u001b[0m\u001b[0;36m1\u001b[0m\u001b[0;34m)\u001b[0m\u001b[0;34m]\u001b[0m\u001b[0;34m)\u001b[0m\u001b[0;34m\u001b[0m\u001b[0;34m\u001b[0m\u001b[0m\n\u001b[0m\u001b[1;32m     23\u001b[0m             \u001b[0;31m#G[k] = sum([Z[i][k-i] for i in range(L_-1)])\u001b[0m\u001b[0;34m\u001b[0m\u001b[0;34m\u001b[0m\u001b[0;34m\u001b[0m\u001b[0m\n\u001b[1;32m     24\u001b[0m         \u001b[0;32mif\u001b[0m \u001b[0mK_\u001b[0m \u001b[0;34m<=\u001b[0m \u001b[0mk\u001b[0m \u001b[0;34m<\u001b[0m \u001b[0mN\u001b[0m\u001b[0;34m+\u001b[0m\u001b[0;36m1\u001b[0m\u001b[0;34m:\u001b[0m\u001b[0;34m\u001b[0m\u001b[0;34m\u001b[0m\u001b[0m\n",
      "\u001b[0;32m<ipython-input-80-6a4fdf91763f>\u001b[0m in \u001b[0;36m<listcomp>\u001b[0;34m(.0)\u001b[0m\n\u001b[1;32m     20\u001b[0m             \u001b[0;31m#G[k] = sum([Z[i][k-i] for i in range(k)])\u001b[0m\u001b[0;34m\u001b[0m\u001b[0;34m\u001b[0m\u001b[0;34m\u001b[0m\u001b[0m\n\u001b[1;32m     21\u001b[0m         \u001b[0;32mif\u001b[0m \u001b[0mL_\u001b[0m\u001b[0;34m-\u001b[0m\u001b[0;36m1\u001b[0m \u001b[0;34m<=\u001b[0m \u001b[0mk\u001b[0m \u001b[0;34m<\u001b[0m \u001b[0mK_\u001b[0m\u001b[0;34m:\u001b[0m\u001b[0;34m\u001b[0m\u001b[0;34m\u001b[0m\u001b[0m\n\u001b[0;32m---> 22\u001b[0;31m             \u001b[0mG\u001b[0m\u001b[0;34m[\u001b[0m\u001b[0mk\u001b[0m\u001b[0;34m]\u001b[0m \u001b[0;34m=\u001b[0m \u001b[0;36m1\u001b[0m\u001b[0;34m/\u001b[0m\u001b[0mL_\u001b[0m\u001b[0;34m*\u001b[0m \u001b[0msum\u001b[0m\u001b[0;34m(\u001b[0m\u001b[0;34m[\u001b[0m\u001b[0mZ\u001b[0m\u001b[0;34m[\u001b[0m\u001b[0mi\u001b[0m\u001b[0;34m]\u001b[0m\u001b[0;34m[\u001b[0m\u001b[0mk\u001b[0m\u001b[0;34m-\u001b[0m\u001b[0mi\u001b[0m\u001b[0;34m+\u001b[0m\u001b[0;36m1\u001b[0m\u001b[0;34m]\u001b[0m \u001b[0;32mfor\u001b[0m \u001b[0mi\u001b[0m \u001b[0;32min\u001b[0m \u001b[0mrange\u001b[0m\u001b[0;34m(\u001b[0m\u001b[0mL_\u001b[0m\u001b[0;34m-\u001b[0m\u001b[0;36m1\u001b[0m\u001b[0;34m)\u001b[0m\u001b[0;34m]\u001b[0m\u001b[0;34m)\u001b[0m\u001b[0;34m\u001b[0m\u001b[0;34m\u001b[0m\u001b[0m\n\u001b[0m\u001b[1;32m     23\u001b[0m             \u001b[0;31m#G[k] = sum([Z[i][k-i] for i in range(L_-1)])\u001b[0m\u001b[0;34m\u001b[0m\u001b[0;34m\u001b[0m\u001b[0;34m\u001b[0m\u001b[0m\n\u001b[1;32m     24\u001b[0m         \u001b[0;32mif\u001b[0m \u001b[0mK_\u001b[0m \u001b[0;34m<=\u001b[0m \u001b[0mk\u001b[0m \u001b[0;34m<\u001b[0m \u001b[0mN\u001b[0m\u001b[0;34m+\u001b[0m\u001b[0;36m1\u001b[0m\u001b[0;34m:\u001b[0m\u001b[0;34m\u001b[0m\u001b[0;34m\u001b[0m\u001b[0m\n",
      "\u001b[0;31mIndexError\u001b[0m: index 11 is out of bounds for axis 0 with size 11"
     ]
    }
   ],
   "source": [
    "ts1 = SSA_group(A, U, V, len(ts), [0, 1, 2])\n",
    "print(ts1)\n",
    "np.allclose(ts, ts1)"
   ]
  },
  {
   "cell_type": "code",
   "execution_count": 24,
   "metadata": {},
   "outputs": [
    {
     "name": "stdout",
     "output_type": "stream",
     "text": [
      "wtf\n"
     ]
    }
   ],
   "source": [
    "k = 4\n",
    "if 5 > k >=0:\n",
    "    print(\"wtf\")"
   ]
  },
  {
   "cell_type": "code",
   "execution_count": null,
   "metadata": {},
   "outputs": [],
   "source": []
  }
 ],
 "metadata": {
  "kernelspec": {
   "display_name": "Python 3",
   "language": "python",
   "name": "python3"
  },
  "language_info": {
   "codemirror_mode": {
    "name": "ipython",
    "version": 3
   },
   "file_extension": ".py",
   "mimetype": "text/x-python",
   "name": "python",
   "nbconvert_exporter": "python",
   "pygments_lexer": "ipython3",
   "version": "3.6.8"
  }
 },
 "nbformat": 4,
 "nbformat_minor": 2
}
