{
 "cells": [
  {
   "cell_type": "code",
   "execution_count": null,
   "metadata": {},
   "outputs": [],
   "source": [
    "def noise_test(noise):\n",
    "    \n",
    "    plt.figure(figsize = (15, 5))\n",
    "    plt.title(\"noise\")\n",
    "    plt.plot(t, noise, label='noise')\n",
    "\n",
    "    plt.legend()\n",
    "    plt.show()\n",
    "    \n",
    "    #plt.figure(figsize = (15, 5))\n",
    "    #pd.plotting.autocorrelation_plot(noiseSSA);\n",
    "    #plt.show()\n",
    "    \n",
    "    #plot_acf(noise, lags = 20);\n",
    "    #plt.show()\n",
    "    #plot_pacf(noise, lags = 20);\n",
    "    #plt.show()\n",
    "  \n",
    "    #f_test(noise)\n",
    "    #t_test(noise)\n",
    "    #runs_test(noise)\n",
    "    #kpss_test(noise)\n",
    "    mean_res_test(noise)\n",
    "    turning_point_test(noise)"
   ]
  },
  {
   "cell_type": "code",
   "execution_count": null,
   "metadata": {},
   "outputs": [],
   "source": [
    "# Тест Квятковских-Филлипса-Шмидта-Шина\n",
    "#Kwiatkowski-Phillips-Schmidt-Shin test for stationarity.\n",
    "#computes the Kwiatkowski-Phillips-Schmidt-Shin (KPSS) test for the null hypothesis that x is level or trend stationary.\n",
    "def kpss_test(noise):\n",
    "    statistic, pvalue, wtf, critical_values = sm.tsa.kpss(noiseSSA)\n",
    "\n",
    "    print(\"\\n===KPSS-test===\")\n",
    "    print(\"\\tstatistic %.3f \\n\\tpvalue %.3f\" % (statistic, pvalue))\n",
    "    print('\\tcritial values:')\n",
    "    for key, value in critical_values.items():\n",
    "        print(f'\\t   {key}-{value}')\n",
    "    print('\\tH0: noise is level or trend stationary CORRECT')"
   ]
  },
  {
   "cell_type": "code",
   "execution_count": null,
   "metadata": {},
   "outputs": [],
   "source": [
    "# критерий серий\n",
    "def runs_test(noise):\n",
    "    print(\"\\n===runs-test===\")\n",
    "    alpha = 0.05\n",
    "    med = np.median(noise)\n",
    "    #str1 = \"\"\n",
    "    arr = []\n",
    "    for i in noise:\n",
    "        if i > med:\n",
    "            #str1+=\"+\"\n",
    "            arr.append(1)\n",
    "        else:\n",
    "            #str1+=\"-\"\n",
    "            arr.append(0)\n",
    "    #print(str1)\n",
    "    #print(arr)\n",
    "    qcnt = 0\n",
    "    tau = 0\n",
    "    cnt1 = 1\n",
    "    v = 1\n",
    "    for i in range(1023):\n",
    "        if arr[i] == arr[i+1]:\n",
    "            cnt1 += 1\n",
    "        else:\n",
    "            cnt1 = 0\n",
    "            v +=1\n",
    "        if cnt1 > tau:\n",
    "            tau = cnt1\n",
    "\n",
    "    print(\"\\tКоличество серий \", v)\n",
    "    print(\"\\tМаксимальная длина серии \", tau)\n",
    "    v_critical_value = 0.5*(N + 2 -1.96*np.sqrt(N-1))\n",
    "    tau_critical_value = 1.43* math.log(N+1)\n",
    "    print(\"\\tv %d > critical value %.3f\" % (v, v_critical_value))\n",
    "    print(\"\\ttau %d < critical value %.3f\" % (tau, tau_critical_value))\n",
    "    print(\"\\tH0: M[x] = const CORRECT\")\n",
    "    #if (v > v_critical_value and tau < tau_critical_value):\n",
    "    #    print(\"Оба неравенства выполняются. Гипотеза H0:M[x] = const о неизменности среднего значени ВР ПРИНИМАЕТСЯ с вероятностью ошибки \", alpha)\n",
    "    #else: \n",
    "    #    print(\"Одно из неравенств не выполняется. Гипотеза H0:M[x] = const о неизменности среднего значени ВР ОТВЕРГАЕТСЯ с вероятностью ошибки \", alpha)"
   ]
  },
  {
   "cell_type": "code",
   "execution_count": null,
   "metadata": {},
   "outputs": [],
   "source": [
    "def f_test(noise):\n",
    "    #больше ли дисперсия между группами, чем дисперсия внутри групп, \n",
    "    # и вычисляет вероятность наблюдения этого отношения дисперсии с помощью F-распределения.\n",
    "    print(\"\\n===F-test===\")\n",
    "    #print(\"\\tКритерий Фишера : проверка, что обе части ряда имеют одинаковые дисперсии\")\n",
    "    #print(\"\\tThe one-way ANOVA tests the null hypothesis that two or more groups have the same population mean\")\n",
    "    #print(\"\\tH0: D1[x] = D2[x]\")\n",
    "    \n",
    "    statistic, pvalue = scipy.stats.f_oneway(noise[0:512], noise[512:1024])\n",
    "    print(\"\\tstatistic %.3f \\n\\t!pvalue %.3f\" % (statistic, pvalue))\n",
    "    #print(\"between-group variance is %.3fx the within-group variance\"% (statistic))\n",
    "    #var1 = np.var(noise[0:512])\n",
    "    #var2 = np.var(noise[512:1024])\n",
    "    #print(\"var 1   %.3f\"% var1)\n",
    "    #print(\"var 2   %.3f\"% var2)\n",
    "    #print(\"var 1+2 %.3f\"% np.var(noise))\n",
    "    #print(\"Fs %.3f\" % (max(var1, var2)/min(var1, var2)))\n",
    "    \n",
    "    # evaluate the F-Statistic against a critical point on the F-Distribution\n",
    "    # F-distribution parameters\n",
    "    k = 2\n",
    "    dfn = k - 1  #degrees of freedom numerator 1 \n",
    "    # k is the number of comparison groups\n",
    "    N = 1024 #N is the total number of observations in the analysis\n",
    "    dfd = N - k #1023 #degrees of freedom denominator\n",
    "    rejection_reg = scipy.stats.f.ppf(q=.95, dfn=dfn, dfd=dfd)\n",
    "    #print(\"\\tcritical value %.3f\" %(rejection_reg))\n",
    "    # Reject H0 in favour of H1 if statistic > critical value\n",
    "    print(\"\\tstatistic %.3f < critical value %.3f\" % (statistic, rejection_reg))\n",
    "    print(\"\\tH0: D1[x] = D2[x] CORRECT\")\n",
    "    "
   ]
  },
  {
   "cell_type": "code",
   "execution_count": null,
   "metadata": {},
   "outputs": [],
   "source": [
    "#Calculate the T-test for the means of two independent samples of scores.\n",
    "\n",
    "#This is a two-sided test for the null hypothesis that 2 independent samples have identical average (expected) values. This test assumes that the populations have identical variances by default.\n",
    "\n",
    "\n",
    "\n",
    "def t_test(noise):\n",
    "    alpha = 0.05\n",
    "    N1 = 512\n",
    "    N2 = 512\n",
    "    df = N1 + N2 - 2 #degrees of freedom\n",
    "    print(\"\\n===T-test===\")\n",
    "    #print(\"== Критерий Стьюдента: наличие неслучайной составляющей во временном ряде\")\n",
    "    #print(\"\\tIndependent two-sample t-test: Equal sample sizes, equal variance\")\n",
    "    #print(\"\\tH0: M[x] = const\")\n",
    "    \n",
    "    statistic, pvalue = scipy.stats.ttest_ind(noise[0:512],noise[512:1024])\n",
    "    print(\"\\tstatistic %.3f \\n\\t!pvalue %.3f\" % (statistic, pvalue))\n",
    "    rejection_reg = scipy.stats.t.ppf(1-alpha, df)\n",
    "    #print(\"\\tcritical value \", rejection_reg)\n",
    "    \n",
    "    #if statistic < rejection_reg:\n",
    "    #    print(\"Гипотеза о постоянстве мат. ожидания отклоняется с уровнем значимости \", alpha)\n",
    "    #else: \n",
    "    #    print(\"Гипотеза о постоянстве мат. ожидания принимается с уровнем значимости \", alpha)\n",
    "    print(\"\\tstatistic %.3f < critical value %.3f\" % (statistic, rejection_reg))\n",
    "    print(\"\\tH0: M[x] = const CORRECT\")"
   ]
  },
  {
   "cell_type": "code",
   "execution_count": null,
   "metadata": {},
   "outputs": [],
   "source": [
    "def irw(noise):\n",
    "    alpha = 0.01\n",
    "    cr = 1.2 # для N=1000 и уровень значимости 0.05\n",
    "    N = 1024\n",
    "    σ = np.sqrt(np.var(noise))\n",
    "    noise_rolled = np.roll(noise, 1)\n",
    "    t_h1 = []\n",
    "    k = (np.abs(noise - noise_rolled)/σ)\n",
    "    for i in range(N):\n",
    "        if k[i] > cr:\n",
    "            print(\"\\С вероятностью ошибки\", alpha, \" гипотеза Н0 отвергнута. Принимается гипотеза Н1. Отсчет \", i, \" аномальный. k = \", k[i])\n",
    "            t_h1.append(i)\n",
    "        "
   ]
  },
  {
   "cell_type": "code",
   "execution_count": null,
   "metadata": {},
   "outputs": [],
   "source": [
    "from statsmodels.graphics.tsaplots import plot_acf, plot_pacf\n",
    "from statsmodels import api as sm"
   ]
  },
  {
   "cell_type": "code",
   "execution_count": null,
   "metadata": {},
   "outputs": [],
   "source": [
    "import scipy\n",
    "scipy.__version__"
   ]
  },
  {
   "cell_type": "code",
   "execution_count": null,
   "metadata": {},
   "outputs": [],
   "source": [
    "import statsmodels\n",
    "statsmodels.__version__"
   ]
  },
  {
   "cell_type": "code",
   "execution_count": null,
   "metadata": {},
   "outputs": [],
   "source": [
    "#sm.tsa.adfuller(noiseSSA)\n",
    "result = sm.tsa.adfuller(noiseSSA, autolag='AIC')\n",
    "print(f'ADF Statistic: {result[0]}')\n",
    "print(f'p-value: {result[1]}')\n",
    "for key, value in result[4].items():\n",
    "    print('Critial Values:')\n",
    "    print(f'   {key}, {value}')"
   ]
  },
  {
   "cell_type": "code",
   "execution_count": null,
   "metadata": {},
   "outputs": [],
   "source": [
    "import math"
   ]
  },
  {
   "cell_type": "code",
   "execution_count": null,
   "metadata": {},
   "outputs": [],
   "source": [
    "Для критерия Ирвина, числа отсчетов 1000+ и уровнем значимости 0.05 критическое значение 0.8, слишком много аномальных значений"
   ]
  },
  {
   "cell_type": "code",
   "execution_count": null,
   "metadata": {},
   "outputs": [],
   "source": [
    "def inst_freq(tx, w):\n",
    "    n = tx.shape[0]\n",
    "    fs = 1/(tx[1] - tx[0]) # fs = 1/dt = N/T\n",
    "    # аналитический сигнал\n",
    "    analytic_signal = signal.hilbert(w) \n",
    "    \n",
    "    # мгновенная фаза в развернутом непрерывном виде\n",
    "    instantaneous_phase = np.unwrap(np.angle(analytic_signal))\n",
    "    \n",
    "    # мгновенная частота как производная от фазы, приведенная в Гц\n",
    "    instantaneous_frequency = (np.diff(instantaneous_phase) / (2.0*np.pi) * fs)\n",
    "    \n",
    "    # из-за численного расчета производной массив мгновенной частоты\n",
    "    # будет меньше массива времени на одну точку:\n",
    "    tt = np.array(tx[1:])\n",
    "    return tt, instantaneous_frequency"
   ]
  }
 ],
 "metadata": {
  "kernelspec": {
   "display_name": "Python [conda env:Py36] *",
   "language": "python",
   "name": "conda-env-Py36-py"
  },
  "language_info": {
   "codemirror_mode": {
    "name": "ipython",
    "version": 3
   },
   "file_extension": ".py",
   "mimetype": "text/x-python",
   "name": "python",
   "nbconvert_exporter": "python",
   "pygments_lexer": "ipython3",
   "version": "3.6.8"
  }
 },
 "nbformat": 4,
 "nbformat_minor": 2
}
